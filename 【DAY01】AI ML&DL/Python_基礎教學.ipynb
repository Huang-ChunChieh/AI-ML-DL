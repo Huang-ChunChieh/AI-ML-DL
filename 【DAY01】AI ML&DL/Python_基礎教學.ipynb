{
  "cells": [
    {
      "cell_type": "markdown",
      "metadata": {
        "id": "ZnAuzXzGsYWf"
      },
      "source": [
        "\n",
        "# 執行 cell：\n",
        "   * Shfit + Enter 執行該 cell 且跳下一個 cell \n",
        "   * Ctrl + Enter 執行該 cell (但停在該 cell)"
      ]
    },
    {
      "cell_type": "markdown",
      "metadata": {
        "id": "DQdo0W13sYWi"
      },
      "source": [
        "# 建立變數"
      ]
    },
    {
      "cell_type": "markdown",
      "metadata": {
        "id": "9JWKD7DgsYWj"
      },
      "source": [
        "[賦值] 變數名稱 = 值"
      ]
    },
    {
      "cell_type": "code",
      "execution_count": null,
      "metadata": {
        "id": "4x9UJFxxsYWj"
      },
      "outputs": [],
      "source": [
        "#mac os command + enter"
      ]
    },
    {
      "cell_type": "code",
      "execution_count": null,
      "metadata": {
        "id": "pbe64K8_sYWj"
      },
      "outputs": [],
      "source": [
        "a = 131\n",
        "b = 66\n",
        "c = 99"
      ]
    },
    {
      "cell_type": "code",
      "execution_count": null,
      "metadata": {
        "id": "y7HNtsHSsYWk"
      },
      "outputs": [],
      "source": [
        "a"
      ]
    },
    {
      "cell_type": "code",
      "execution_count": null,
      "metadata": {
        "id": "vFvMceKZsYWk"
      },
      "outputs": [],
      "source": [
        "a = \"gdwgqw\""
      ]
    },
    {
      "cell_type": "code",
      "execution_count": null,
      "metadata": {
        "id": "bMxqjVp-sYWl"
      },
      "outputs": [],
      "source": [
        "a"
      ]
    },
    {
      "cell_type": "markdown",
      "metadata": {
        "id": "RBg_NRw1sYWl"
      },
      "source": [
        "### jupyter notebook 的輸出只會將最下面的變數呈現"
      ]
    },
    {
      "cell_type": "code",
      "execution_count": null,
      "metadata": {
        "id": "Ri9ipE5nsYWl"
      },
      "outputs": [],
      "source": [
        "a\n",
        "b\n",
        "c"
      ]
    },
    {
      "cell_type": "markdown",
      "metadata": {
        "id": "_GENwZAIsYWm"
      },
      "source": [
        "### 使用print 可以將變數的值"
      ]
    },
    {
      "cell_type": "code",
      "execution_count": null,
      "metadata": {
        "id": "Cj2SjsptsYWm"
      },
      "outputs": [],
      "source": [
        "print(a)\n",
        "print(b)\n",
        "print(c)\n",
        "\n",
        "print(\"a : \", a)\n",
        "print(\"b : \", b)\n",
        "print(\"c : \", c)"
      ]
    },
    {
      "cell_type": "markdown",
      "metadata": {
        "id": "y4SkYP5YsYWm"
      },
      "source": [
        "# 如何註解：\n",
        "   *  單行  -> #　　　快捷鍵「Ctrl + /」\n",
        "   *  多行  -> \"\"\"  \"\"\""
      ]
    },
    {
      "cell_type": "code",
      "execution_count": null,
      "metadata": {
        "id": "C_7PbqGzsYWn"
      },
      "outputs": [],
      "source": [
        "# 計算 1+1\n",
        "# 結果是2\n",
        "1+1"
      ]
    },
    {
      "cell_type": "code",
      "execution_count": null,
      "metadata": {
        "id": "NM1klH2DsYWn"
      },
      "outputs": [],
      "source": [
        "\"\"\"\n",
        "計算\n",
        "45646+565 *(556-622)\n",
        "結果是..\n",
        "\n",
        "目前在做加法\n",
        "\"\"\"\n",
        "\n",
        "45646+565 *(556-622)"
      ]
    },
    {
      "cell_type": "markdown",
      "metadata": {
        "id": "h0abhckWsYWn"
      },
      "source": [
        "# 函式說明：\n",
        "  * ?FunctionName\n",
        "  * help(FunctionName)"
      ]
    },
    {
      "cell_type": "code",
      "execution_count": 1,
      "metadata": {
        "id": "0_gKFA2LsYWo"
      },
      "outputs": [],
      "source": [
        "?print"
      ]
    },
    {
      "cell_type": "code",
      "execution_count": null,
      "metadata": {
        "colab": {
          "base_uri": "https://localhost:8080/"
        },
        "id": "XJ5xtv-EsYWo",
        "outputId": "68a389d1-dabd-4675-9b99-abe9c5c6a932"
      },
      "outputs": [
        {
          "name": "stdout",
          "output_type": "stream",
          "text": [
            "Help on built-in function sum in module builtins:\n",
            "\n",
            "sum(iterable, start=0, /)\n",
            "    Return the sum of a 'start' value (default: 0) plus an iterable of numbers\n",
            "    \n",
            "    When the iterable is empty, return the start value.\n",
            "    This function is intended specifically for use with numeric values and may\n",
            "    reject non-numeric types.\n",
            "\n"
          ]
        }
      ],
      "source": [
        "help(sum)"
      ]
    },
    {
      "cell_type": "markdown",
      "metadata": {
        "id": "juPE6CS0sYWo"
      },
      "source": [
        "# python常見的資料型態"
      ]
    },
    {
      "cell_type": "markdown",
      "metadata": {
        "id": "t9JZpUaYsYWo"
      },
      "source": [
        "* 數值 number\n",
        "     - 整數 integer (int)\n",
        "     - 浮點數 float\n",
        "* 字串 string (str)\n",
        "* 邏輯 boolean (bool): True: 1; False: 0\n",
        "* 容器型態\n",
        "     - [列表 list](http://www.runoob.com/python/python-lists.html)\n",
        "     - [元組 tuple](http://www.runoob.com/python/python-tuples.html)\n",
        "     - [字典 dict](http://www.runoob.com/python/python-dictionary.html)\n",
        "     - [集合 set](https://steam.oxxostudio.tw/category/python/basic/set.html)\n",
        "\n",
        "     \n",
        "### 分成不可變(immutable)與可變(mutable)\n",
        "* immutable: int, float, str, bool, tuple\n",
        "* mutable: list, dict, set"
      ]
    },
    {
      "cell_type": "markdown",
      "metadata": {
        "id": "PPyu_2DQsYWo"
      },
      "source": [
        "# python常見的資料型態 - 字串 str"
      ]
    },
    {
      "cell_type": "code",
      "execution_count": null,
      "metadata": {
        "id": "q-xGfwEpsYWo"
      },
      "outputs": [],
      "source": [
        "a = 1\n",
        "b = 2\n",
        "\n",
        "a + b"
      ]
    },
    {
      "cell_type": "code",
      "execution_count": null,
      "metadata": {
        "id": "bBQnkjcNsYWp"
      },
      "outputs": [],
      "source": [
        "a = '1'\n",
        "b = \"2\"\n",
        "\n",
        "a + b"
      ]
    },
    {
      "cell_type": "markdown",
      "metadata": {
        "id": "KNKrryzDsYWp"
      },
      "source": [
        "### 資料型態"
      ]
    },
    {
      "cell_type": "code",
      "execution_count": null,
      "metadata": {
        "id": "Mi9XAaNQsYWp"
      },
      "outputs": [],
      "source": [
        "life = \"        人生          \"\n",
        "type(life) "
      ]
    },
    {
      "cell_type": "markdown",
      "metadata": {
        "id": "jPDRhwuRsYWp"
      },
      "source": [
        "### 去除空白"
      ]
    },
    {
      "cell_type": "code",
      "execution_count": null,
      "metadata": {
        "colab": {
          "base_uri": "https://localhost:8080/",
          "height": 35
        },
        "id": "dE59T7bgsYWp",
        "outputId": "2079c86b-2447-4e01-fbb9-eebba58e5ed2"
      },
      "outputs": [
        {
          "data": {
            "application/vnd.google.colaboratory.intrinsic+json": {
              "type": "string"
            },
            "text/plain": [
              "'        人生'"
            ]
          },
          "execution_count": 106,
          "metadata": {},
          "output_type": "execute_result"
        }
      ],
      "source": [
        "# 去除右邊空白\n",
        "life.rstrip()"
      ]
    },
    {
      "cell_type": "code",
      "execution_count": null,
      "metadata": {
        "colab": {
          "base_uri": "https://localhost:8080/",
          "height": 35
        },
        "id": "5T98BkjTsYWp",
        "outputId": "b9abf271-9779-438d-caa2-12568dc40eb2"
      },
      "outputs": [
        {
          "data": {
            "application/vnd.google.colaboratory.intrinsic+json": {
              "type": "string"
            },
            "text/plain": [
              "'人生          '"
            ]
          },
          "execution_count": 105,
          "metadata": {},
          "output_type": "execute_result"
        }
      ],
      "source": [
        "# 去除左邊空白\n",
        "life.lstrip()"
      ]
    },
    {
      "cell_type": "code",
      "execution_count": null,
      "metadata": {
        "colab": {
          "base_uri": "https://localhost:8080/",
          "height": 35
        },
        "id": "3LV0CjYrsYWp",
        "outputId": "5aaeb995-be0b-4839-9d28-0f6fc50a469b",
        "scrolled": true
      },
      "outputs": [
        {
          "data": {
            "application/vnd.google.colaboratory.intrinsic+json": {
              "type": "string"
            },
            "text/plain": [
              "'人生'"
            ]
          },
          "execution_count": 104,
          "metadata": {},
          "output_type": "execute_result"
        }
      ],
      "source": [
        "# 去除左右空白\n",
        "life.strip()"
      ]
    },
    {
      "cell_type": "markdown",
      "metadata": {
        "id": "C2mjuu58sYWp"
      },
      "source": [
        "### 取代 replace"
      ]
    },
    {
      "cell_type": "code",
      "execution_count": null,
      "metadata": {
        "id": "l1KWFf8ssYWq"
      },
      "outputs": [],
      "source": [
        "a = 123123\n",
        "string = \"aabccdddeefgiljlfj   a\""
      ]
    },
    {
      "cell_type": "code",
      "execution_count": null,
      "metadata": {
        "id": "3wvq273EsYWq"
      },
      "outputs": [],
      "source": [
        "# tab => 自動補齊\n",
        "string.replace('ee', \"@\")"
      ]
    },
    {
      "cell_type": "code",
      "execution_count": null,
      "metadata": {
        "id": "r3K-2eeQsYWq"
      },
      "outputs": [],
      "source": [
        "string.replace('a', \"\")"
      ]
    },
    {
      "cell_type": "markdown",
      "metadata": {
        "id": "Sd_HxXOXsYWq"
      },
      "source": [
        "### 格式化"
      ]
    },
    {
      "cell_type": "code",
      "execution_count": null,
      "metadata": {
        "id": "6fljz9x5sYWq"
      },
      "outputs": [],
      "source": [
        "x = 123\n",
        "string_1 = 'string_1, x = %s '%x\n",
        "string_2 = 'string_2, x = {} '.format(x)\n",
        "\n",
        "print(string_1)\n",
        "print(string_2)"
      ]
    },
    {
      "cell_type": "code",
      "execution_count": null,
      "metadata": {
        "id": "tsVtUmZ3sYWq"
      },
      "outputs": [],
      "source": [
        "y = 23.135356123\n",
        "string_3 = 'string_3, y = %f '%y\n",
        "string_4 = 'string_4, y = %.2f '%y\n",
        "string_5 = f'string_5, y = {y:.2f} '\n",
        "\n",
        "print(string_3)\n",
        "print(string_4)\n",
        "print(string_5)"
      ]
    },
    {
      "cell_type": "markdown",
      "metadata": {
        "id": "8hzKuMFSsYWq"
      },
      "source": [
        "# python常見的資料型態 - 列表 list"
      ]
    },
    {
      "cell_type": "code",
      "execution_count": null,
      "metadata": {
        "id": "9ZVIEVKwsYWq"
      },
      "outputs": [],
      "source": [
        "list_1 = [23, 45, 31, 77, 13, 98, 65, 23, 6, 12, 3 ,63, 475, 163, 20] \n",
        "type(list_1)"
      ]
    },
    {
      "cell_type": "markdown",
      "metadata": {
        "id": "rNgZzsCKsYWq"
      },
      "source": [
        "### 索引，取出元素"
      ]
    },
    {
      "cell_type": "code",
      "execution_count": null,
      "metadata": {
        "colab": {
          "base_uri": "https://localhost:8080/"
        },
        "id": "8hM2zrp2sYWq",
        "outputId": "c8ef282d-f93f-4c26-f2f3-85bf0c8ad7db"
      },
      "outputs": [
        {
          "name": "stdout",
          "output_type": "stream",
          "text": [
            "77\n",
            "[77, 13, 98, 65, 23, 6, 12, 3, 63, 475, 163, 20]\n",
            "[45, 31, 77]\n",
            "20\n",
            "[23, 31, 13, 65, 6, 3, 475, 20]\n"
          ]
        }
      ],
      "source": [
        "print(list_1[3])\n",
        "print(list_1[3:])\n",
        "print(list_1[1:4])\n",
        "print(list_1[-1])\n",
        "print(list_1[::2]) ##  [<開始>:<結束>:<步伐>]"
      ]
    },
    {
      "cell_type": "markdown",
      "metadata": {
        "id": "kQjrn9yasYWq"
      },
      "source": [
        "### append : 加入元素"
      ]
    },
    {
      "cell_type": "code",
      "execution_count": null,
      "metadata": {
        "id": "68AsxryesYWq"
      },
      "outputs": [],
      "source": [
        "list_1.append('Jeff')"
      ]
    },
    {
      "cell_type": "code",
      "execution_count": null,
      "metadata": {
        "id": "EoGsYDHosYWr"
      },
      "outputs": [],
      "source": [
        "list_1"
      ]
    },
    {
      "cell_type": "markdown",
      "metadata": {
        "id": "t6J4ft06sYWr"
      },
      "source": [
        "### len()：計算 list 長度"
      ]
    },
    {
      "cell_type": "code",
      "execution_count": null,
      "metadata": {
        "id": "k_2zuIUvsYWr"
      },
      "outputs": [],
      "source": [
        "len(list_1)"
      ]
    },
    {
      "cell_type": "markdown",
      "metadata": {
        "id": "61PifGCCsYWr"
      },
      "source": [
        "# Range"
      ]
    },
    {
      "cell_type": "code",
      "execution_count": null,
      "metadata": {
        "id": "UFRDD5x1sYWr"
      },
      "outputs": [],
      "source": [
        "range(10)"
      ]
    },
    {
      "cell_type": "code",
      "execution_count": null,
      "metadata": {
        "id": "x_pQcCL8sYWr"
      },
      "outputs": [],
      "source": [
        "list(range(10))"
      ]
    },
    {
      "cell_type": "code",
      "execution_count": null,
      "metadata": {
        "id": "wTZkdCLBsYWr"
      },
      "outputs": [],
      "source": [
        "list(range(4,10))"
      ]
    },
    {
      "cell_type": "code",
      "execution_count": null,
      "metadata": {
        "id": "UvQJb0-TsYWr"
      },
      "outputs": [],
      "source": [
        "sum(list(range(4,20, 2)))/len(list(range(4,20, 2)))"
      ]
    },
    {
      "cell_type": "markdown",
      "metadata": {
        "id": "R5DfJwC2sYWr"
      },
      "source": [
        "# 能不能做更多處理- 套件"
      ]
    },
    {
      "cell_type": "code",
      "execution_count": null,
      "metadata": {
        "id": "e6kIyyNIsYWr"
      },
      "outputs": [],
      "source": [
        "import numpy"
      ]
    },
    {
      "cell_type": "code",
      "execution_count": null,
      "metadata": {
        "id": "2sHrz7aFsYWr"
      },
      "outputs": [],
      "source": [
        "list_2 = [52.0, 52.6, 54.1, 53.8, 54.3, 54.3, 53.7, 53.9, 53.9, 53.9, 54.2, 54.1, 54.0, 54.4, 53.8, 55.7, 56.1, 57.0, 58.1]\n",
        "\n",
        "list_2_array = numpy.array(list_2)"
      ]
    },
    {
      "cell_type": "code",
      "execution_count": null,
      "metadata": {
        "id": "qMW4StXMsYWr"
      },
      "outputs": [],
      "source": [
        "list_2_array"
      ]
    },
    {
      "cell_type": "code",
      "execution_count": null,
      "metadata": {
        "id": "jH_u_ocRsYWr"
      },
      "outputs": [],
      "source": [
        "type(list_2_array)"
      ]
    },
    {
      "cell_type": "markdown",
      "metadata": {
        "id": "m5SXs6K0sYWr"
      },
      "source": [
        "### 統計運算"
      ]
    },
    {
      "cell_type": "code",
      "execution_count": null,
      "metadata": {
        "id": "WCbBcfGdsYWr"
      },
      "outputs": [],
      "source": [
        "print(\"std  : \", list_2_array.std())   ## 標準差\n",
        "print(\"mean : \", list_2_array.mean())  ## 平均值\n",
        "print(\"sum  : \", list_2_array.sum())   ## 全部加總"
      ]
    },
    {
      "cell_type": "markdown",
      "metadata": {
        "id": "i_qJRwrBsYWr"
      },
      "source": [
        "# 廣播運算"
      ]
    },
    {
      "cell_type": "code",
      "execution_count": null,
      "metadata": {
        "id": "X5vHsiwZsYWs"
      },
      "outputs": [],
      "source": [
        "list_2_array + 100"
      ]
    },
    {
      "cell_type": "code",
      "execution_count": null,
      "metadata": {
        "id": "BRtENkZNsYWs"
      },
      "outputs": [],
      "source": [
        "list_2_array * -5"
      ]
    },
    {
      "cell_type": "markdown",
      "metadata": {
        "id": "JAQsdQdTsYWs"
      },
      "source": [
        "# 維度"
      ]
    },
    {
      "cell_type": "code",
      "execution_count": null,
      "metadata": {
        "id": "S9IJlhxMsYWs"
      },
      "outputs": [],
      "source": [
        "list_2_array"
      ]
    },
    {
      "cell_type": "code",
      "execution_count": null,
      "metadata": {
        "id": "UKYBJB_lsYWs"
      },
      "outputs": [],
      "source": [
        "list_2_array.shape"
      ]
    },
    {
      "cell_type": "code",
      "execution_count": null,
      "metadata": {
        "id": "UXWCyJbSsYWs",
        "scrolled": true
      },
      "outputs": [],
      "source": [
        "# (row, column)\n",
        "list_2_array.reshape(-1,1) ## 變成 1個 column , 剩下轉到 row"
      ]
    },
    {
      "cell_type": "code",
      "execution_count": null,
      "metadata": {
        "id": "leTjmngHsYWs"
      },
      "outputs": [],
      "source": [
        "list_2_array"
      ]
    },
    {
      "cell_type": "code",
      "execution_count": null,
      "metadata": {
        "id": "JaXS1AaBsYWs"
      },
      "outputs": [],
      "source": [
        "list_2_array.reshape(1, -1) ## 變成 1個 row, 剩下轉到 column"
      ]
    },
    {
      "cell_type": "code",
      "execution_count": null,
      "metadata": {
        "id": "ka6wfQqmsYWs"
      },
      "outputs": [],
      "source": [
        "arr2 = numpy.array([1,2,3,4,5,6])"
      ]
    },
    {
      "cell_type": "code",
      "execution_count": null,
      "metadata": {
        "id": "wHZOjm7CsYWs"
      },
      "outputs": [],
      "source": [
        "arr2.reshape(-1,1)"
      ]
    },
    {
      "cell_type": "code",
      "execution_count": null,
      "metadata": {
        "id": "QpNXt8s_m0PC"
      },
      "outputs": [],
      "source": [
        "arr2.reshape(3,2) ## 變成3個row, 2個column"
      ]
    },
    {
      "cell_type": "markdown",
      "metadata": {
        "id": "cXCe5a9DsYWs"
      },
      "source": [
        "# 表格處理 Pandas"
      ]
    },
    {
      "cell_type": "code",
      "execution_count": null,
      "metadata": {
        "id": "EyeNH35-sYWs"
      },
      "outputs": [],
      "source": [
        "list_3 =[\n",
        " ['2021-07-01', '2881', '富邦金', 73.4, 13667],\n",
        " ['2021-07-02', '2881', '富邦金', 72.9, 16074],\n",
        " ['2021-07-05', '2881', '富邦金', 73.9, 12814],\n",
        " ['2021-07-06', '2881', '富邦金', 73.7, 16566],\n",
        " ['2021-07-07', '2881', '富邦金', 74.0, 13018],\n",
        " ['2021-07-08', '2881', '富邦金', 74.8, 23078],\n",
        " ['2021-07-09', '2881', '富邦金', 74.2, 24115],\n",
        " ['2021-07-12', '2881', '富邦金', 76.1, 68581],\n",
        " ['2021-07-13', '2881', '富邦金', 76.2, 39647],\n",
        " ['2021-07-14', '2881', '富邦金', 78.1, 38851],\n",
        " ['2021-07-15', '2881', '富邦金', 79.5, 34723],\n",
        " ['2021-07-01', '2882', '國泰金', 53.9, 16255],\n",
        " ['2021-07-02', '2882', '國泰金', 53.9, 13291],\n",
        " ['2021-07-05', '2882', '國泰金', 54.2, 15417],\n",
        " ['2021-07-06', '2882', '國泰金', 54.1, 16195],\n",
        " ['2021-07-07', '2882', '國泰金', 54.0, 17361],\n",
        " ['2021-07-08', '2882', '國泰金', 54.4, 30765],\n",
        " ['2021-07-09', '2882', '國泰金', 53.8, 34898],\n",
        " ['2021-07-12', '2882', '國泰金', 55.7, 86411],\n",
        " ['2021-07-13', '2882', '國泰金', 56.1, 56176],\n",
        " ['2021-07-14', '2882', '國泰金', 57.0, 52106],\n",
        " ['2021-07-15', '2882', '國泰金', 58.1, 55396],\n",
        " ['2021-07-01', '2883', '開發金', 13.05, 56270],\n",
        " ['2021-07-02', '2883', '開發金', 13.15, 42402],\n",
        " ['2021-07-05', '2883', '開發金', 13.25, 60747],\n",
        " ['2021-07-06', '2883', '開發金', 13.3, 60280],\n",
        " ['2021-07-07', '2883', '開發金', 13.5, 92229],\n",
        " ['2021-07-08', '2883', '開發金', 13.95, 161756],\n",
        " ['2021-07-09', '2883', '開發金', 13.7, 94825],\n",
        " ['2021-07-12', '2883', '開發金', 13.95, 110305],\n",
        " ['2021-07-13', '2883', '開發金', 13.8, 100155],\n",
        " ['2021-07-14', '2883', '開發金', 13.95, 68670],\n",
        " ['2021-07-15', '2883', '開發金', 14.2, 84279]]"
      ]
    },
    {
      "cell_type": "code",
      "execution_count": null,
      "metadata": {
        "id": "bGGFJi-UsYWs"
      },
      "outputs": [],
      "source": [
        "import pandas as pd # as 是縮寫，給小名的意思"
      ]
    },
    {
      "cell_type": "code",
      "execution_count": null,
      "metadata": {
        "id": "4RcmV6qjsYWs"
      },
      "outputs": [],
      "source": [
        "table = pd.DataFrame(list_3, columns=['date', 'code', 'name','price', 'volume'])"
      ]
    },
    {
      "cell_type": "code",
      "execution_count": null,
      "metadata": {
        "id": "fkhUW_d6sYWt",
        "scrolled": true
      },
      "outputs": [],
      "source": [
        "table"
      ]
    },
    {
      "cell_type": "markdown",
      "metadata": {
        "id": "v41m-lQWsYWt"
      },
      "source": [
        "### index, columns, values, shape"
      ]
    },
    {
      "cell_type": "code",
      "execution_count": null,
      "metadata": {
        "id": "ey2O-gxxsYWt"
      },
      "outputs": [],
      "source": [
        "print('columns : ', table.columns)\n",
        "print('index /row : ', table.index)"
      ]
    },
    {
      "cell_type": "code",
      "execution_count": null,
      "metadata": {
        "id": "DryqT7b1sYWt"
      },
      "outputs": [],
      "source": [
        "table.index = table['date']\n",
        "table.index"
      ]
    },
    {
      "cell_type": "code",
      "execution_count": null,
      "metadata": {
        "id": "IjYmVlLvsYWt",
        "scrolled": true
      },
      "outputs": [],
      "source": [
        "table.shape"
      ]
    },
    {
      "cell_type": "code",
      "execution_count": null,
      "metadata": {
        "id": "6jt9DpjEsYWt"
      },
      "outputs": [],
      "source": [
        "table['name'].values"
      ]
    },
    {
      "cell_type": "code",
      "execution_count": null,
      "metadata": {
        "id": "O3bA2eoQsYWt"
      },
      "outputs": [],
      "source": [
        "# 資料維度\n",
        "table['name'].shape"
      ]
    },
    {
      "cell_type": "markdown",
      "metadata": {
        "id": "aO0ru7NRsYWt"
      },
      "source": [
        "# 表格基本訊息"
      ]
    },
    {
      "cell_type": "code",
      "execution_count": null,
      "metadata": {
        "id": "KhBZRBc3sYWt"
      },
      "outputs": [],
      "source": [
        "table.info()"
      ]
    },
    {
      "cell_type": "markdown",
      "metadata": {
        "id": "Fe7haQYLsYWt"
      },
      "source": [
        "# 基本統計"
      ]
    },
    {
      "cell_type": "code",
      "execution_count": null,
      "metadata": {
        "id": "CW0h9HOwsYWt",
        "scrolled": false
      },
      "outputs": [],
      "source": [
        "table.describe()"
      ]
    },
    {
      "cell_type": "code",
      "execution_count": null,
      "metadata": {
        "id": "QNejfMklsYWt",
        "scrolled": true
      },
      "outputs": [],
      "source": [
        "table.describe(include='all')"
      ]
    },
    {
      "cell_type": "markdown",
      "metadata": {
        "id": "JD5wXyIKsYWt"
      },
      "source": [
        "# 流程控制"
      ]
    },
    {
      "cell_type": "markdown",
      "metadata": {
        "id": "44sjir8BsYWt"
      },
      "source": [
        "# if-elif-else"
      ]
    },
    {
      "cell_type": "code",
      "execution_count": null,
      "metadata": {
        "id": "9Y-U8014sYWt"
      },
      "outputs": [],
      "source": [
        "A = 3\n",
        "B = 2\n",
        "\n",
        "if A == B:\n",
        "    print('A = B')\n",
        "else:\n",
        "    print('A != B')"
      ]
    },
    {
      "cell_type": "code",
      "execution_count": null,
      "metadata": {
        "id": "7upXHGgQsYWu"
      },
      "outputs": [],
      "source": [
        "# 巢狀條件判斷 if-elif-else\n",
        "# 小明考試成績, 請老師給他分數\n",
        "\n",
        "score = ?\n",
        "if 80 < score <= 100:\n",
        "    print(\"太聰明了\")\n",
        "elif 60 < score <= 80:\n",
        "    print(\"有進步的空間\")\n",
        "elif 40 < score <= 60:\n",
        "    print(\"小明...要加油啦...\")  \n",
        "elif score <= 40:\n",
        "    print(\"回家要吃棍子了\")\n",
        "else:\n",
        "    print(\"這個分數有問題吧\")"
      ]
    },
    {
      "cell_type": "markdown",
      "metadata": {
        "id": "CXiUA29VsYWu"
      },
      "source": [
        "# for 迴圈"
      ]
    },
    {
      "cell_type": "code",
      "execution_count": null,
      "metadata": {
        "id": "tK-avw7gsYWu",
        "scrolled": true
      },
      "outputs": [],
      "source": [
        "# 從 0印出來到 9\n",
        "for i in range(10):\n",
        "    print(i)"
      ]
    },
    {
      "cell_type": "code",
      "execution_count": null,
      "metadata": {
        "id": "bw_7BAgRsYWu"
      },
      "outputs": [],
      "source": [
        "student_names = [\"James\", \"Mary\", \"Bob\", \"Patrick\", \"John\"]\n",
        "for name in student_names:\n",
        "    print(\"班上的學生有：\",name)"
      ]
    },
    {
      "cell_type": "code",
      "execution_count": null,
      "metadata": {
        "id": "Cjhubd_UsYWu"
      },
      "outputs": [],
      "source": [
        "for idx, name in enumerate(student_names):\n",
        "    print(\"班上的學生有：\",name,\"  ，學號是\",idx)"
      ]
    },
    {
      "cell_type": "markdown",
      "metadata": {
        "id": "mtSzBQgosYWu"
      },
      "source": [
        "# break 與 continue"
      ]
    },
    {
      "cell_type": "code",
      "execution_count": null,
      "metadata": {
        "id": "QtDnfee-sYWu"
      },
      "outputs": [],
      "source": [
        "# 到5就結束\n",
        "for i in range(20):\n",
        "    if i == 5:\n",
        "      break\n",
        "    print(i)"
      ]
    },
    {
      "cell_type": "code",
      "execution_count": null,
      "metadata": {
        "id": "ILoVLxfTsYWu"
      },
      "outputs": [],
      "source": [
        "# 到5就跳過\n",
        "for i in range(20):\n",
        "    if i == 5:\n",
        "        continue\n",
        "    print(i)"
      ]
    },
    {
      "cell_type": "markdown",
      "metadata": {
        "collapsed": true,
        "id": "WQ1JqRXMsYWu"
      },
      "source": [
        "# 自定函式 (Functions)"
      ]
    },
    {
      "cell_type": "code",
      "execution_count": null,
      "metadata": {
        "id": "BA6zvGM1sYWu"
      },
      "outputs": [],
      "source": [
        "# def function\n",
        "def doSquare(x): \n",
        "    print('this x is ', x)\n",
        "    print('this x + 10 is ', x+10)\n",
        "    return x**2"
      ]
    },
    {
      "cell_type": "code",
      "execution_count": null,
      "metadata": {
        "id": "6wv-ylwRsYWu"
      },
      "outputs": [],
      "source": [
        "doSquare(100)"
      ]
    },
    {
      "cell_type": "markdown",
      "metadata": {
        "id": "3uaTOp_ssYWu"
      },
      "source": [
        "### 預設輸入值"
      ]
    },
    {
      "cell_type": "code",
      "execution_count": null,
      "metadata": {
        "id": "HsCjVGoosYWu"
      },
      "outputs": [],
      "source": [
        "def printValue(x = \"No input\"): \n",
        "    print(\"You input : \", x)\n",
        "\n",
        "\n",
        "printValue()\n",
        "printValue(32423)"
      ]
    }
  ],
  "metadata": {
    "anaconda-cloud": {},
    "colab": {
      "provenance": []
    },
    "kernelspec": {
      "display_name": "Python 3.7.15 ('labelme')",
      "language": "python",
      "name": "python3"
    },
    "language_info": {
      "codemirror_mode": {
        "name": "ipython",
        "version": 3
      },
      "file_extension": ".py",
      "mimetype": "text/x-python",
      "name": "python",
      "nbconvert_exporter": "python",
      "pygments_lexer": "ipython3",
      "version": "3.7.15"
    },
    "vscode": {
      "interpreter": {
        "hash": "77ae5a6c1c62e499167fa5103b4607adc18dbfe7d23c81056c264d200aac2365"
      }
    }
  },
  "nbformat": 4,
  "nbformat_minor": 0
}
