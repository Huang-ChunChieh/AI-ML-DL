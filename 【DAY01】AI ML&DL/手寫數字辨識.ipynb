{
  "cells": [
    {
      "cell_type": "markdown",
      "metadata": {
        "id": "D8iQ6Hb1Qr-1"
      },
      "source": [
        "**先引進訓練模型的資料**\n",
        "\n",
        "**輸入為28x28**\n",
        "\n",
        "\n",
        "from tensorflow.keras import datasets\n",
        "\n",
        "from matplotlib import pyplot as plt\n",
        "\n",
        "(train_images, train_labels), (test_images, test_labels) = datasets.mnist.load_data()\n",
        "\n",
        "train_images[0].shape"
      ]
    },
    {
      "cell_type": "code",
      "execution_count": 3,
      "metadata": {
        "colab": {
          "base_uri": "https://localhost:8080/"
        },
        "id": "KHwWraZfrp11",
        "outputId": "531aa20b-79ed-4c06-87c1-cb9746a0738e"
      },
      "outputs": [
        {
          "ename": "ModuleNotFoundError",
          "evalue": "No module named 'tensorflow'",
          "output_type": "error",
          "traceback": [
            "\u001b[1;31m---------------------------------------------------------------------------\u001b[0m",
            "\u001b[1;31mModuleNotFoundError\u001b[0m                       Traceback (most recent call last)",
            "Cell \u001b[1;32mIn[3], line 1\u001b[0m\n\u001b[1;32m----> 1\u001b[0m \u001b[39mfrom\u001b[39;00m \u001b[39mtensorflow\u001b[39;00m\u001b[39m.\u001b[39;00m\u001b[39mkeras\u001b[39;00m \u001b[39mimport\u001b[39;00m datasets\n\u001b[0;32m      3\u001b[0m \u001b[39mfrom\u001b[39;00m \u001b[39mmatplotlib\u001b[39;00m \u001b[39mimport\u001b[39;00m pyplot \u001b[39mas\u001b[39;00m plt\n\u001b[0;32m      5\u001b[0m (train_images, train_labels), (test_images, test_labels) \u001b[39m=\u001b[39m datasets\u001b[39m.\u001b[39mmnist\u001b[39m.\u001b[39mload_data()\n",
            "\u001b[1;31mModuleNotFoundError\u001b[0m: No module named 'tensorflow'"
          ]
        }
      ],
      "source": [
        "from tensorflow.keras import datasets\n",
        "\n",
        "from matplotlib import pyplot as plt\n",
        "\n",
        "(train_images, train_labels), (test_images, test_labels) = datasets.mnist.load_data()\n",
        "\n",
        "train_images[0].shape"
      ]
    },
    {
      "cell_type": "markdown",
      "metadata": {
        "id": "38xdrV9Ortwx"
      },
      "source": [
        "**對輸入的訓練圖像歸一化**\n",
        "\n",
        "**方便模型學習**\n",
        "\n",
        "\n",
        "train_images = train_images.reshape(60000,28,28,1)\n",
        "\n",
        "test_images = test_images.reshape(10000,28,28,1)\n",
        "\n",
        "train_images = train_images/255.0\n",
        "\n",
        "test_images = test_images/255.0"
      ]
    },
    {
      "cell_type": "code",
      "execution_count": null,
      "metadata": {
        "id": "fSkMO0t6rtGl"
      },
      "outputs": [],
      "source": []
    },
    {
      "cell_type": "markdown",
      "metadata": {
        "id": "0S9TncqecrSE"
      },
      "source": [
        "\n",
        "建立模型! \n",
        "\n",
        "Flatten : 展平, 攤平成1維陣列 28 x 28 總共784個點 (輸入層)\n",
        "\n",
        "Dense Layer：全連接層，784個點與128個神經元 (第一個隱藏層)\n",
        "\n",
        "Dropout Layer：訓練過程隨機丟棄20%的神經元\n",
        "\n",
        "Dense Layer：輸出10個神經元，轉成0 - 9的預測機率 (輸出層)\n"
      ]
    },
    {
      "cell_type": "code",
      "execution_count": null,
      "metadata": {
        "id": "8efuJKRHrsuu"
      },
      "outputs": [],
      "source": [
        "import tensorflow as tf\n",
        "model = tf.keras.models.Sequential([\n",
        "    tf.keras.layers.Flatten(input_shape=(28,28)),\n",
        "    tf.keras.layers.Dense(128,activation= 'relu'),\n",
        "    tf.keras.layers.Dropout(0.2),\n",
        "    tf.keras.layers.Dense(10, activation='softmax')\n",
        "    ])\n",
        "\n",
        "model.summary()"
      ]
    },
    {
      "cell_type": "code",
      "execution_count": null,
      "metadata": {
        "id": "uMW-fnvMlydZ"
      },
      "outputs": [],
      "source": []
    },
    {
      "cell_type": "markdown",
      "metadata": {
        "id": "Xj7oQ6fKdySl"
      },
      "source": [
        "\n",
        "**開始訓練模型**\n",
        "\n",
        "\n",
        "**Epochs = 5 意思是數據分成5批放進模型訓練**\n",
        "\n",
        "from tensorflow.keras import losses\n",
        "\n",
        "model.compile(optimizer='adam', loss='sparse_categorical_crossentropy', metrics=['accuracy'])\n",
        "\n",
        "history = model.fit(train_images, train_labels, epochs=5)"
      ]
    },
    {
      "cell_type": "code",
      "execution_count": null,
      "metadata": {
        "id": "FYRRksNYwcTo"
      },
      "outputs": [],
      "source": []
    },
    {
      "cell_type": "markdown",
      "metadata": {
        "id": "VGFOW7qKd86g"
      },
      "source": [
        "\n",
        "**模型評估準確度**\n",
        "\n",
        "\n",
        "model.evaluate(train_images, train_labels)"
      ]
    },
    {
      "cell_type": "code",
      "execution_count": null,
      "metadata": {
        "id": "5Rrhh2VXwcpJ"
      },
      "outputs": [],
      "source": []
    },
    {
      "cell_type": "markdown",
      "metadata": {
        "id": "9M_DKVH4eG8C"
      },
      "source": [
        "\n",
        "**設定輸入圖像**\n",
        "\n",
        "**按下位於左上方的檔案夾圖標, 可以上傳自己手寫的圖像**\n",
        "\n",
        "**接下來把圖像轉換成28x28**\n",
        "\n",
        "\n",
        "import cv2\n",
        "\n",
        "from google.colab.patches import cv2_imshow\n",
        "\n",
        "img = cv2.imread('number.jpg', cv2.IMREAD_UNCHANGED)\n",
        "\n",
        "gray_img = cv2.cvtColor(img, cv2.COLOR_BGR2GRAY)\n",
        "\n",
        "\n",
        "\n",
        "dim = (28, 28)\n",
        "\n",
        "img_2 = cv2.resize(gray_img, dim, interpolation = cv2.INTER_AREA)\n",
        "\n",
        "cv2_imshow(img_2)\n",
        "\n",
        "img_2.shape\n"
      ]
    },
    {
      "cell_type": "code",
      "execution_count": null,
      "metadata": {
        "id": "fb1hjgX44sE9"
      },
      "outputs": [],
      "source": []
    },
    {
      "cell_type": "markdown",
      "metadata": {
        "id": "J9PvWJV5ex-S"
      },
      "source": [
        "**把圖像數據歸一化:**\n",
        "\n",
        "im = 255 - img_2\n",
        "\n",
        "im = im/255.0\n",
        "\n",
        "im = im.reshape((28,28,1))\n",
        "\n",
        "im = np.expand_dims(im,0)\n",
        "\n",
        "im.shape"
      ]
    },
    {
      "cell_type": "code",
      "execution_count": null,
      "metadata": {
        "id": "UysygWUufCEO"
      },
      "outputs": [],
      "source": []
    },
    {
      "cell_type": "markdown",
      "metadata": {
        "id": "-vKoZIbX3sIo"
      },
      "source": [
        "**問模型剛剛的數字是什麽?**\n",
        "\n",
        "**argmax在找哪個數字的可能性最大**\n",
        "\n",
        "np.argmax(model.predict(im))"
      ]
    },
    {
      "cell_type": "code",
      "execution_count": null,
      "metadata": {
        "id": "Yd6d-B1d5JZ6"
      },
      "outputs": [],
      "source": []
    }
  ],
  "metadata": {
    "colab": {
      "provenance": []
    },
    "kernelspec": {
      "display_name": "Python 3.10.7 64-bit",
      "language": "python",
      "name": "python3"
    },
    "language_info": {
      "codemirror_mode": {
        "name": "ipython",
        "version": 3
      },
      "file_extension": ".py",
      "mimetype": "text/x-python",
      "name": "python",
      "nbconvert_exporter": "python",
      "pygments_lexer": "ipython3",
      "version": "3.10.7"
    },
    "vscode": {
      "interpreter": {
        "hash": "e1c6d3664ac472e660fdb356e777c548a8b023662d6a36ae254700257ebdd811"
      }
    }
  },
  "nbformat": 4,
  "nbformat_minor": 0
}
